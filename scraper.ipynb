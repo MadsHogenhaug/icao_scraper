{
  "nbformat": 4,
  "nbformat_minor": 0,
  "metadata": {
    "colab": {
      "provenance": [],
      "authorship_tag": "ABX9TyPWOxa+dRxRM1fgNDrx3s/I",
      "include_colab_link": true
    },
    "kernelspec": {
      "name": "python3",
      "display_name": "Python 3"
    },
    "language_info": {
      "name": "python"
    }
  },
  "cells": [
    {
      "cell_type": "markdown",
      "metadata": {
        "id": "view-in-github",
        "colab_type": "text"
      },
      "source": [
        "<a href=\"https://colab.research.google.com/github/MadsHogenhaug/icao_scraper/blob/main/scraper.ipynb\" target=\"_parent\"><img src=\"https://colab.research.google.com/assets/colab-badge.svg\" alt=\"Open In Colab\"/></a>"
      ]
    },
    {
      "cell_type": "code",
      "execution_count": null,
      "metadata": {
        "id": "y8DWd3uj6BNd"
      },
      "outputs": [],
      "source": [
        "import requests\n",
        "from bs4 import BeautifulSoup\n",
        "import pandas as pd\n"
      ]
    },
    {
      "cell_type": "code",
      "source": [
        "abc = ['A', 'B', 'C', 'D', 'E', 'F', 'G', 'H', 'I', 'J', 'K', 'L', 'M', 'N', 'O', 'P', 'Q', 'R', 'S', 'T', 'U', 'V', 'W', 'X', 'Y', 'Z']\n",
        "\n",
        "url = f\"https://airlinecodes.info/icao/{}\"\n"
      ],
      "metadata": {
        "id": "gRayJozK6tMM"
      },
      "execution_count": null,
      "outputs": []
    },
    {
      "cell_type": "code",
      "source": [
        "abc = ['A', 'B', 'C', 'D', 'E', 'F', 'G', 'H', 'I', 'J', 'K', 'L', 'M', 'N', 'O', 'P', 'Q', 'R', 'S', 'T', 'U', 'V', 'W', 'X', 'Y', 'Z']\n",
        "\n",
        "all_airline_data = []\n",
        "\n",
        "for i in abc:\n",
        "    url = f\"https://airlinecodes.info/icao/{i}\"\n",
        "    response = requests.get(url)\n",
        "    soup = BeautifulSoup(response.text, \"html.parser\")\n",
        "\n",
        "    div_element = soup.find(\"table\", class_=\"tdata\")\n",
        "\n",
        "    if div_element:\n",
        "        table_rows = div_element.find_all(\"tr\")[1:]  # Skip the header row\n",
        "\n",
        "        for row in table_rows:\n",
        "            columns = row.find_all('td')\n",
        "            icao = columns[0].text.strip()\n",
        "            iata = columns[1].find('a').text.strip() if columns[1].find('a') else ''\n",
        "            name = columns[2].find('a').text.strip()\n",
        "            all_airline_data.append({'ICAO': icao, 'IATA': iata, 'NAME': name})\n",
        "\n",
        "df = pd.DataFrame(all_airline_data, columns=['ICAO', 'IATA', 'NAME'])\n",
        "print(df)"
      ],
      "metadata": {
        "id": "Cr4vr4jF6Jko",
        "colab": {
          "base_uri": "https://localhost:8080/"
        },
        "outputId": "0232a65e-ba36-4cdf-9700-14c57d3e67ef"
      },
      "execution_count": null,
      "outputs": [
        {
          "output_type": "stream",
          "name": "stdout",
          "text": [
            "     ICAO IATA                                               NAME\n",
            "0     AAA                                        Ansett Australia\n",
            "1     AAB                                         Abelag Aviation\n",
            "2     AAC                                          Army Air Corps\n",
            "3     AAD                               Aero Aviation Centre Ltd.\n",
            "4     AAF   ZI                                         Aigle Azur\n",
            "...   ...  ...                                                ...\n",
            "5306  ZAS                                   ZAS Airlines of Egypt\n",
            "5307  ZAW                                            Zoom Airways\n",
            "5308  ZBA                           Boskovic Air Charters Limited\n",
            "5309  ZMA                                        Zambezi Airlines\n",
            "5310  ZZM       Agence Nationale des Aerodromes et de la Meteo...\n",
            "\n",
            "[5311 rows x 3 columns]\n"
          ]
        }
      ]
    },
    {
      "cell_type": "code",
      "source": [
        "from google.colab import files\n",
        "\n",
        "df.to_csv(\"icao.csv\",encoding=\"UTF-8\")\n",
        "files.download(\"icao.csv\")\n",
        "\n"
      ],
      "metadata": {
        "colab": {
          "base_uri": "https://localhost:8080/",
          "height": 17
        },
        "id": "N-E4Qb_-9wtE",
        "outputId": "b4a9ec3a-c5a2-447a-ff96-98b26297e589"
      },
      "execution_count": null,
      "outputs": [
        {
          "output_type": "display_data",
          "data": {
            "text/plain": [
              "<IPython.core.display.Javascript object>"
            ],
            "application/javascript": [
              "\n",
              "    async function download(id, filename, size) {\n",
              "      if (!google.colab.kernel.accessAllowed) {\n",
              "        return;\n",
              "      }\n",
              "      const div = document.createElement('div');\n",
              "      const label = document.createElement('label');\n",
              "      label.textContent = `Downloading \"${filename}\": `;\n",
              "      div.appendChild(label);\n",
              "      const progress = document.createElement('progress');\n",
              "      progress.max = size;\n",
              "      div.appendChild(progress);\n",
              "      document.body.appendChild(div);\n",
              "\n",
              "      const buffers = [];\n",
              "      let downloaded = 0;\n",
              "\n",
              "      const channel = await google.colab.kernel.comms.open(id);\n",
              "      // Send a message to notify the kernel that we're ready.\n",
              "      channel.send({})\n",
              "\n",
              "      for await (const message of channel.messages) {\n",
              "        // Send a message to notify the kernel that we're ready.\n",
              "        channel.send({})\n",
              "        if (message.buffers) {\n",
              "          for (const buffer of message.buffers) {\n",
              "            buffers.push(buffer);\n",
              "            downloaded += buffer.byteLength;\n",
              "            progress.value = downloaded;\n",
              "          }\n",
              "        }\n",
              "      }\n",
              "      const blob = new Blob(buffers, {type: 'application/binary'});\n",
              "      const a = document.createElement('a');\n",
              "      a.href = window.URL.createObjectURL(blob);\n",
              "      a.download = filename;\n",
              "      div.appendChild(a);\n",
              "      a.click();\n",
              "      div.remove();\n",
              "    }\n",
              "  "
            ]
          },
          "metadata": {}
        },
        {
          "output_type": "display_data",
          "data": {
            "text/plain": [
              "<IPython.core.display.Javascript object>"
            ],
            "application/javascript": [
              "download(\"download_8516ffc6-a5cd-414c-9a48-ad2e0039bbc6\", \"icao.csv\", 151992)"
            ]
          },
          "metadata": {}
        }
      ]
    }
  ]
}