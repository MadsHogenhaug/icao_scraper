{
  "nbformat": 4,
  "nbformat_minor": 0,
  "metadata": {
    "colab": {
      "provenance": [],
      "authorship_tag": "ABX9TyNow9z8uf1IZRe2LNLP5+bB",
      "include_colab_link": true
    },
    "kernelspec": {
      "name": "python3",
      "display_name": "Python 3"
    },
    "language_info": {
      "name": "python"
    }
  },
  "cells": [
    {
      "cell_type": "markdown",
      "metadata": {
        "id": "view-in-github",
        "colab_type": "text"
      },
      "source": [
        "<a href=\"https://colab.research.google.com/github/MadsHogenhaug/icao_scraper/blob/main/icao_scraper.ipynb\" target=\"_parent\"><img src=\"https://colab.research.google.com/assets/colab-badge.svg\" alt=\"Open In Colab\"/></a>"
      ]
    },
    {
      "cell_type": "code",
      "execution_count": null,
      "metadata": {
        "id": "y8DWd3uj6BNd"
      },
      "outputs": [],
      "source": [
        "import requests\n",
        "from bs4 import BeautifulSoup\n",
        "import pandas as pd\n",
        "from collections import defaultdict\n",
        "import time\n",
        "from collections import Counter\n",
        "from google.colab import files\n"
      ]
    },
    {
      "cell_type": "code",
      "source": [
        "countries = [\"Africa\", \"Antartica\", \"Asia\",\"Europe\",\"North_America\", \"Oceania\",\"South_America\"]\n",
        "c = []\n",
        "\n",
        "for i in countries:\n",
        "  url = f\"https://airportsbase.org/{i}\"\n",
        "  response = requests.get(url)\n",
        "  soup = BeautifulSoup(response.content,\"html.parser\")\n",
        "\n",
        "  div_element = soup.find(\"div\", class_ = \"table-wrap\")\n",
        "  table_rows = div_element.find_all(\"tr\")\n",
        "\n",
        "  for row in table_rows[1:]:\n",
        "    columns = row.find_all(\"a\")\n",
        "    if columns:\n",
        "        a = columns[0].text.strip()\n",
        "        if a not in c:  # Check if the item is not already in the list\n",
        "            c.append(a)\n",
        "    else:\n",
        "        print(\"empty\")\n",
        "  time.sleep(1)\n",
        "\n",
        "c = [x.replace(\" \", \"_\").replace(\".\", \"\").replace(\"(\", \"\").replace(\")\", \"\").replace(\"'\", \"_\") for x in sorted(c)]\n"
      ],
      "metadata": {
        "id": "-GoEWCVJ--yZ"
      },
      "execution_count": null,
      "outputs": []
    },
    {
      "cell_type": "code",
      "source": [
        "# Base URL for the table pages\n",
        "airports = []\n",
        "\n",
        "for i in c:\n",
        "  base_url = f\"https://airportsbase.org/{i}/all/airports\"\n",
        "  front_page_url = \"https://airportsbase.org/\"\n",
        "  page_number = 1  # Start with t\n",
        "\n",
        "  while True:\n",
        "      # Construct the URL for the current page\n",
        "      page_url = f\"{base_url}/page{page_number - 1}\"\n",
        "\n",
        "      print(f\"Crawling: {page_url}\")  # Print the current website URL\n",
        "\n",
        "      # Make a request to the page\n",
        "      response = requests.get(page_url)\n",
        "\n",
        "      if response.url == front_page_url:\n",
        "          print(\"Redirected to front page. Exiting.\")\n",
        "          break\n",
        "\n",
        "      soup = BeautifulSoup(response.content, \"html.parser\")\n",
        "\n",
        "      a_elements = soup.find_all('th')  # Assuming the <a> elements are within <th> elements\n",
        "\n",
        "      # Check if there are no <a> elements on the current page\n",
        "      if not a_elements:\n",
        "          print(\"No more <a> elements found. Exiting.\")\n",
        "          break\n",
        "\n",
        "      # Loop through each <a> element\n",
        "      for a_element in a_elements[8:]:\n",
        "          a_text = a_element.get_text()  # Get the text within the <a> element\n",
        "          td_element = a_element.find_next('td')  # Find the next <td> element\n",
        "          td_text = td_element.get_text() if td_element else \"\"  # Get the text within the <td> element\n",
        "\n",
        "          # print(f\"Link Text: {a_text}\")\n",
        "          # print(f\"Associated TD Text: {td_text}\")\n",
        "          # print(\"----------\")\n",
        "          airports.append({\"Airport\":a_text, \"ICAO\": td_text})\n",
        "      # Move on to the next page\n",
        "      page_number += 1\n",
        "      time.sleep(1)"
      ],
      "metadata": {
        "id": "gRayJozK6tMM"
      },
      "execution_count": null,
      "outputs": []
    },
    {
      "cell_type": "code",
      "source": [
        "for entry in airports:\n",
        "    if not entry['ICAO']:\n",
        "        entry['ICAO'] = 'NO ICAO'\n",
        "\n",
        "df = pd.DataFrame(airports)\n",
        "\n",
        "df.to_csv(\"icao_airports.csv\",index=False,encoding=\"UTF-8\")\n",
        "files.download(\"icao_airports.csv\")"
      ],
      "metadata": {
        "colab": {
          "base_uri": "https://localhost:8080/",
          "height": 17
        },
        "id": "3HvVyCCMY1rF",
        "outputId": "1a0f202b-96ac-483c-b9b0-0432394511b5"
      },
      "execution_count": null,
      "outputs": [
        {
          "output_type": "display_data",
          "data": {
            "text/plain": [
              "<IPython.core.display.Javascript object>"
            ],
            "application/javascript": [
              "\n",
              "    async function download(id, filename, size) {\n",
              "      if (!google.colab.kernel.accessAllowed) {\n",
              "        return;\n",
              "      }\n",
              "      const div = document.createElement('div');\n",
              "      const label = document.createElement('label');\n",
              "      label.textContent = `Downloading \"${filename}\": `;\n",
              "      div.appendChild(label);\n",
              "      const progress = document.createElement('progress');\n",
              "      progress.max = size;\n",
              "      div.appendChild(progress);\n",
              "      document.body.appendChild(div);\n",
              "\n",
              "      const buffers = [];\n",
              "      let downloaded = 0;\n",
              "\n",
              "      const channel = await google.colab.kernel.comms.open(id);\n",
              "      // Send a message to notify the kernel that we're ready.\n",
              "      channel.send({})\n",
              "\n",
              "      for await (const message of channel.messages) {\n",
              "        // Send a message to notify the kernel that we're ready.\n",
              "        channel.send({})\n",
              "        if (message.buffers) {\n",
              "          for (const buffer of message.buffers) {\n",
              "            buffers.push(buffer);\n",
              "            downloaded += buffer.byteLength;\n",
              "            progress.value = downloaded;\n",
              "          }\n",
              "        }\n",
              "      }\n",
              "      const blob = new Blob(buffers, {type: 'application/binary'});\n",
              "      const a = document.createElement('a');\n",
              "      a.href = window.URL.createObjectURL(blob);\n",
              "      a.download = filename;\n",
              "      div.appendChild(a);\n",
              "      a.click();\n",
              "      div.remove();\n",
              "    }\n",
              "  "
            ]
          },
          "metadata": {}
        },
        {
          "output_type": "display_data",
          "data": {
            "text/plain": [
              "<IPython.core.display.Javascript object>"
            ],
            "application/javascript": [
              "download(\"download_522a6a5c-5114-4d67-a8e9-02d6a15bed2c\", \"icao_airports.csv\", 1093657)"
            ]
          },
          "metadata": {}
        }
      ]
    },
    {
      "cell_type": "code",
      "source": [
        "# abc = ['A', 'B', 'C', 'D', 'E', 'F', 'G', 'H', 'I', 'J', 'K', 'L', 'M', 'N', 'O', 'P', 'Q', 'R', 'S', 'T', 'U', 'V', 'W', 'X', 'Y', 'Z']\n",
        "\n",
        "# all_airline_data = []\n",
        "\n",
        "# for i in abc:\n",
        "#     url = f\"https://airlinecodes.info/icao/{i}\"\n",
        "#     response = requests.get(url)\n",
        "#     soup = BeautifulSoup(response.text, \"html.parser\")\n",
        "\n",
        "#     div_element = soup.find(\"table\", class_=\"tdata\")\n",
        "\n",
        "#     if div_element:\n",
        "#         table_rows = div_element.find_all(\"tr\")[1:]  # Skip the header row\n",
        "\n",
        "#         for row in table_rows:\n",
        "#             columns = row.find_all('td')\n",
        "#             icao = columns[0].text.strip()\n",
        "#             iata = columns[1].find('a').text.strip() if columns[1].find('a') else ''\n",
        "#             name = columns[2].find('a').text.strip()\n",
        "#             all_airline_data.append({'ICAO': icao, 'IATA': iata, 'NAME': name})\n",
        "\n",
        "# df = pd.DataFrame(all_airline_data, columns=['ICAO', 'IATA', 'NAME'])\n",
        "# print(df)"
      ],
      "metadata": {
        "id": "Cr4vr4jF6Jko"
      },
      "execution_count": null,
      "outputs": []
    },
    {
      "cell_type": "code",
      "source": [
        "# from google.colab import files\n",
        "\n",
        "# df.to_csv(\"icao.csv\",encoding=\"UTF-8\")\n",
        "# files.download(\"icao.csv\")\n",
        "\n"
      ],
      "metadata": {
        "id": "N-E4Qb_-9wtE"
      },
      "execution_count": null,
      "outputs": []
    },
    {
      "cell_type": "code",
      "source": [],
      "metadata": {
        "id": "VRsNqY_3GjFN"
      },
      "execution_count": null,
      "outputs": []
    }
  ]
}